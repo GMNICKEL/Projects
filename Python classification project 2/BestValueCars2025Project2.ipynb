{
  "nbformat": 4,
  "nbformat_minor": 0,
  "metadata": {
    "colab": {
      "provenance": []
    },
    "kernelspec": {
      "name": "python3",
      "display_name": "Python 3"
    },
    "language_info": {
      "name": "python"
    }
  },
  "cells": [
    {
      "cell_type": "markdown",
      "source": [
        "# The Best Value Cars of 2025\n",
        "Project 2: Classification, Grayson Nickel, 9/23/2025\n",
        "\n"
      ],
      "metadata": {
        "id": "RdUARhBQjype"
      }
    },
    {
      "cell_type": "markdown",
      "source": [
        "# The problem\n",
        "For this project, I am asking a very similar question to project 1 using the same data set. My question is what are the best value cars of 2025. Last time, I asked essentially the same thing but did not do a good job at calculating the best valued cars. All I did was divide total price by horsepower and determined that the least amount of money per horsepower was the best deal. That way is very flawed so this time I will be using a decision tree considering vehicle price with a limit to how high it can be so we don’t see very expensive vehicles like the Cybertruck again. The decision tree will also consider horsepower with a minimum amount required so the list isn't full of foreign, unsafe and not street legal Tuk-tuks and the like. Essentially this project's problem is a remaster of my project 1’s question using a decision tree to classify each car on the list as either good value or bad.\n"
      ],
      "metadata": {
        "id": "YZ7qnRGEkBTM"
      }
    },
    {
      "cell_type": "markdown",
      "source": [
        "# The Data\n",
        "Same as project 1, this data set is for 2025 including over 1,200 cars. The dataset is called “Cars Datasets (2025)” posted by Abdul Malik on kaggle. This dataset is for free use as long as it's not malicious or for profit. This data set has 11 columns in total covering the following data:\n",
        "\n",
        "Car Company Names: The manufacturer or brand of the car.\n",
        "Car Models: The specific name or series of the car.\n",
        "Engine Types: Information on engine specifications .\n",
        "CC/Battery Capacity: Engine displacement in cubic centimeters or battery capacity for electric cars.\n",
        "Horsepower (HP): The power output of the car's engine or motor.\n",
        "Top Speed: The maximum speed the car can achieve.\n",
        "0-100 km/h Performance: The time it takes for the car to accelerate from 0 to 100 km/h.\n",
        "Price (in USD): The car's price listed in United States dollars.\n",
        "Fuel Type: Specifies whether the car uses petrol, diesel, electricity, or hybrid fuel systems.\n",
        "Seating Capacity: The number of passengers the car can accommodate.\n",
        "Torque: The rotational force the engine generates.\n"
      ],
      "metadata": {
        "id": "ypR6PWuhkIXL"
      }
    },
    {
      "cell_type": "markdown",
      "source": [
        "# Pre-processing\n",
        "My first step was to set up my environment with all the necessary imports and directories for the data set. Next, I cleaned the data for the price and horsepower columns as they are stored in the data set as strings with money signs, commas, and text which would get in the way of calculations. Next, I removed any rows with missing data. Next I set up my decision tree to make sure everything works, which it did. Next, I calculated which column value I should place as the root node of the decision tree and applied it to the decision tree. I did this by calculating the impurity of ‘Price_Numeric’ and ‘HorsePower_Numeric’ using Gini impurity. With that, I found that ‘Price_Numeric’ has a lower Gini impurity and is the best fit for the root node. Next, I ran a quick print statement to see if things were working. Finally I created a visualization of ALL of the good value candidates using Plotly which allows you to hover over each dot and see more information about each specific car without overcrowding the scatterplot.\n",
        "\n"
      ],
      "metadata": {
        "id": "YsCfdd2Bw7-_"
      }
    },
    {
      "cell_type": "markdown",
      "source": [
        "# Data Understanding/Visualization\n",
        "While exploring my improved list of good value cars, I immediately noticed a much cleaner set of data with more realistically attainable cars with my power and price limits in place. I also have a new appreciation for Plotly and how powerful of a tool it can be when trying to plot large data while still including details about each specific point on a plot. My Plotly visualization is a scatterplot containing every single car classified as good value, while including make, model, price, and horsepower for each one of those cars and it doesn't look the least bit crowded. Make sure to scroll to the bottom to see the scatterplot. Try hovering over one of the cars plotted on it while you're there.\n"
      ],
      "metadata": {
        "id": "HvAVn-iiz42I"
      }
    },
    {
      "cell_type": "markdown",
      "source": [
        "# Modeling\n",
        "The classification model I used for this project is a decision tree containing a check if the price is less than $35,000. False is a leaf setting the item to not good value while true branches to a check seeing if the car makes at least 200 horsepower. This leads to two leaves, true will set the item to good value and false sets it to false. I determined that ‘Price_Numeric’ should be the root node of the decision tree by individually calculating the gini impurity of ‘Price_numeric’ and ‘Horsepower_Numeric’ and then manually comparing to see which impurity was lower. The price was lower impurity so I used that first for efficiency's sake."
      ],
      "metadata": {
        "id": "d2weX0oT3kbJ"
      }
    },
    {
      "cell_type": "markdown",
      "source": [
        "# Evaluation\n",
        "Overall, I say my model performs very well. I calculated the gini impurity once so it’s not like I ever need to run those lines again and the decision tree uses the lower impurity column first and only has two decisions to make total to determine if a car is good value or not. So that paired with this data set only having around 1,200 cars total makes waiting times on execution non-existent.\n"
      ],
      "metadata": {
        "id": "CIdIYi_D4_6I"
      }
    },
    {
      "cell_type": "markdown",
      "source": [
        "# Storytelling\n",
        "I learned what cars from 2025 are a good value considering my personal preferences of a maximum price of $35,000 and a minimum of 200 horsepower. From that list, I particularly like the Toyota 86, GT86, Nissan 370Z, and the Ford Fiesta ST. That information actually checks out because those are all great value cars that have been on my radar for years considering sporty performance and price. With that, I was able to answer my question of what the good value cars of 2025 are. I was even introduced to some new cars I never considered like the Hyundai Veloster.\n"
      ],
      "metadata": {
        "id": "4FMbu9_N6unT"
      }
    },
    {
      "cell_type": "markdown",
      "source": [
        "# Impact Section\n",
        "With my more accurate list of the good value cars of 2025, I think this list will have a positive impact on people in the market for a new car. Of course the decision tree was made with my preference for maximum price and minimum horsepower in mind but this list should still provide a good baseline for everyone else. I can’t really think of any genuine negative impacts this list could have because all of the more foreign and dangerous or outrageously expensive cars are no longer on the list which makes all of the options more viable for other people looking for a brand new car. However one negative thing to consider about this list is that it cannot predict the reliability of these cars as brand new cars have yet to prove themselves over the test of time and use. That is a rather important thing because most new cars these days use more and more plastic and more and more complex designs which could reduce durability and reliability. And if you’re already on a budget concerning a new car, then you may not be able to also afford expensive repairs if the car ends up being unreliable.\n"
      ],
      "metadata": {
        "id": "IK5m2fm6-KCe"
      }
    },
    {
      "cell_type": "markdown",
      "source": [
        "# References\n",
        "* The dataset: https://www.kaggle.com/datasets/abdulmalik1518/cars-datasets-2025\n",
        "* Seaborn API: https://seaborn.pydata.org/api.html\n",
        "* Plotly Library: https://plotly.com/python/\n",
        "* Video tutorial: https://www.youtube.com/watch?v=LDRbO9a6XPU\n"
      ],
      "metadata": {
        "id": "2d1Epbjg-N3I"
      }
    },
    {
      "cell_type": "markdown",
      "source": [
        "# The Code"
      ],
      "metadata": {
        "id": "Hm2tKcsL-knj"
      }
    },
    {
      "cell_type": "code",
      "execution_count": null,
      "metadata": {
        "colab": {
          "base_uri": "https://localhost:8080/"
        },
        "id": "hrT3ku9HUk1n",
        "outputId": "0405e6d6-6624-41b8-f334-ddf5cf5f537a"
      },
      "outputs": [
        {
          "output_type": "stream",
          "name": "stdout",
          "text": [
            "Drive already mounted at /content/drive; to attempt to forcibly remount, call drive.mount(\"/content/drive\", force_remount=True).\n"
          ]
        }
      ],
      "source": [
        "# All imports and directory for csv.\n",
        "import numpy as np\n",
        "import pandas as pd\n",
        "import matplotlib.pyplot as plt\n",
        "import seaborn as sns\n",
        "import plotly.express as px\n",
        "\n",
        "from google.colab import drive\n",
        "drive.mount('/content/drive')\n",
        "cars_df = pd.read_csv(\"/content/drive/MyDrive/Colab Notebooks/Cars Datasets 2025.csv\", encoding=\"cp1252\")"
      ]
    },
    {
      "cell_type": "code",
      "source": [
        "# Clean and remove currency symbols, commas, and handle ranges (take the lower value)\n",
        "cars_df['Price_Numeric'] = cars_df['Cars Prices'].astype(str).str.replace('[$,]', '', regex=True).str.split('-').str[0]\n",
        "cars_df['Price_Numeric'] = pd.to_numeric(cars_df['Price_Numeric'], errors='coerce')\n",
        "\n",
        "# Clean and convert 'HorsePower' to numeric\n",
        "cars_df['HorsePower_Numeric'] = cars_df['HorsePower'].astype(str).str.replace('[hp,]', '', regex=True).str.split('-').str[0].str.split('/').str[0]\n",
        "cars_df['HorsePower_Numeric'] = pd.to_numeric(cars_df['HorsePower_Numeric'], errors='coerce')"
      ],
      "metadata": {
        "id": "oBGqkWlnVyN4"
      },
      "execution_count": null,
      "outputs": []
    },
    {
      "cell_type": "code",
      "source": [
        "# Create 'Good Value' decision tree storing a boolean value as the final classifier (Order of decision tree was determined by the Gini impurities of Price_Numeric and Horsepower_Numerpic below)\n",
        "price_condition = cars_df['Price_Numeric'] <= 35000\n",
        "hp_condition = cars_df['HorsePower_Numeric'] >= 200\n",
        "cars_df['Good_Value'] = price_condition & hp_condition"
      ],
      "metadata": {
        "id": "zH52NxIsoRdm"
      },
      "execution_count": null,
      "outputs": []
    },
    {
      "cell_type": "code",
      "source": [
        "# Drop rows with missing values in the relevant columns\n",
        "cars_df.dropna(subset=['Price_Numeric', 'HorsePower_Numeric', 'Good_Value'], inplace=True)"
      ],
      "metadata": {
        "id": "VUWRjKOUWbXP"
      },
      "execution_count": null,
      "outputs": []
    },
    {
      "cell_type": "code",
      "source": [
        "# Gini of a label vector\n",
        "gini = lambda y: 1 - (y.value_counts(normalize=True)**2).sum()\n",
        "\n",
        "# Gini of Price_Numeric <= 35000\n",
        "m = cars_df['Price_Numeric'] <= 35000\n",
        "g_price = m.mean()*gini(cars_df.loc[m,'Good_Value']) + (1-m.mean())*gini(cars_df.loc[~m,'Good_Value'])\n",
        "\n",
        "# Gini of HorsePower_Numeric >= 200\n",
        "m2 = cars_df['HorsePower_Numeric'] >= 200\n",
        "g_hp = m2.mean()*gini(cars_df.loc[m2,'Good_Value']) + (1-m2.mean())*gini(cars_df.loc[~m2,'Good_Value'])\n",
        "\n",
        "print(f\"Price_Numeric impurity: {g_price:.4f}\")\n",
        "print(f\"HorsePower_Numeric impurity: {g_hp:.4f}\")"
      ],
      "metadata": {
        "colab": {
          "base_uri": "https://localhost:8080/"
        },
        "id": "HIYjYfjiiNi8",
        "outputId": "2c8b718d-23a0-42e8-df43-1c251625da41"
      },
      "execution_count": null,
      "outputs": [
        {
          "output_type": "stream",
          "name": "stdout",
          "text": [
            "Price_Numeric impurity: 0.1200\n",
            "HorsePower_Numeric impurity: 0.1292\n"
          ]
        }
      ]
    },
    {
      "cell_type": "code",
      "source": [
        "# Display list of top 10 good value cars of 2025\n",
        "good_value_cars = cars_df[cars_df['Good_Value'] == True]\n",
        "display(good_value_cars[['Company Names', 'Cars Names', 'Price_Numeric', 'HorsePower_Numeric', 'Good_Value']].head(10))"
      ],
      "metadata": {
        "colab": {
          "base_uri": "https://localhost:8080/",
          "height": 363
        },
        "id": "-I2EAW3Kjn1o",
        "outputId": "5dc3049f-8be9-4792-94d5-71b848875180"
      },
      "execution_count": null,
      "outputs": [
        {
          "output_type": "display_data",
          "data": {
            "text/plain": [
              "    Company Names    Cars Names  Price_Numeric  HorsePower_Numeric  Good_Value\n",
              "18         TOYOTA     TOYOTA 86        27000.0               205.0        True\n",
              "19         TOYOTA  TOYOTA  GR86        30000.0               228.0        True\n",
              "23         NISSAN          370Z        30000.0               332.0        True\n",
              "26         NISSAN        MAXIMA        35000.0               300.0        True\n",
              "28         NISSAN         ROGUE        28000.0               201.0        True\n",
              "29         NISSAN    PATHFINDER        35000.0               284.0        True\n",
              "30         NISSAN      FRONTIER        30000.0               310.0        True\n",
              "138          AUDI            Q3        35000.0               248.0        True\n",
              "151           BMW  M135i XDRIVE        30000.0               302.0        True\n",
              "199        TOYOTA         CAMRY        27000.0               301.0        True"
            ],
            "text/html": [
              "\n",
              "  <div id=\"df-98b1c810-3c5b-412d-afa1-66fbc126161d\" class=\"colab-df-container\">\n",
              "    <div>\n",
              "<style scoped>\n",
              "    .dataframe tbody tr th:only-of-type {\n",
              "        vertical-align: middle;\n",
              "    }\n",
              "\n",
              "    .dataframe tbody tr th {\n",
              "        vertical-align: top;\n",
              "    }\n",
              "\n",
              "    .dataframe thead th {\n",
              "        text-align: right;\n",
              "    }\n",
              "</style>\n",
              "<table border=\"1\" class=\"dataframe\">\n",
              "  <thead>\n",
              "    <tr style=\"text-align: right;\">\n",
              "      <th></th>\n",
              "      <th>Company Names</th>\n",
              "      <th>Cars Names</th>\n",
              "      <th>Price_Numeric</th>\n",
              "      <th>HorsePower_Numeric</th>\n",
              "      <th>Good_Value</th>\n",
              "    </tr>\n",
              "  </thead>\n",
              "  <tbody>\n",
              "    <tr>\n",
              "      <th>18</th>\n",
              "      <td>TOYOTA</td>\n",
              "      <td>TOYOTA 86</td>\n",
              "      <td>27000.0</td>\n",
              "      <td>205.0</td>\n",
              "      <td>True</td>\n",
              "    </tr>\n",
              "    <tr>\n",
              "      <th>19</th>\n",
              "      <td>TOYOTA</td>\n",
              "      <td>TOYOTA  GR86</td>\n",
              "      <td>30000.0</td>\n",
              "      <td>228.0</td>\n",
              "      <td>True</td>\n",
              "    </tr>\n",
              "    <tr>\n",
              "      <th>23</th>\n",
              "      <td>NISSAN</td>\n",
              "      <td>370Z</td>\n",
              "      <td>30000.0</td>\n",
              "      <td>332.0</td>\n",
              "      <td>True</td>\n",
              "    </tr>\n",
              "    <tr>\n",
              "      <th>26</th>\n",
              "      <td>NISSAN</td>\n",
              "      <td>MAXIMA</td>\n",
              "      <td>35000.0</td>\n",
              "      <td>300.0</td>\n",
              "      <td>True</td>\n",
              "    </tr>\n",
              "    <tr>\n",
              "      <th>28</th>\n",
              "      <td>NISSAN</td>\n",
              "      <td>ROGUE</td>\n",
              "      <td>28000.0</td>\n",
              "      <td>201.0</td>\n",
              "      <td>True</td>\n",
              "    </tr>\n",
              "    <tr>\n",
              "      <th>29</th>\n",
              "      <td>NISSAN</td>\n",
              "      <td>PATHFINDER</td>\n",
              "      <td>35000.0</td>\n",
              "      <td>284.0</td>\n",
              "      <td>True</td>\n",
              "    </tr>\n",
              "    <tr>\n",
              "      <th>30</th>\n",
              "      <td>NISSAN</td>\n",
              "      <td>FRONTIER</td>\n",
              "      <td>30000.0</td>\n",
              "      <td>310.0</td>\n",
              "      <td>True</td>\n",
              "    </tr>\n",
              "    <tr>\n",
              "      <th>138</th>\n",
              "      <td>AUDI</td>\n",
              "      <td>Q3</td>\n",
              "      <td>35000.0</td>\n",
              "      <td>248.0</td>\n",
              "      <td>True</td>\n",
              "    </tr>\n",
              "    <tr>\n",
              "      <th>151</th>\n",
              "      <td>BMW</td>\n",
              "      <td>M135i XDRIVE</td>\n",
              "      <td>30000.0</td>\n",
              "      <td>302.0</td>\n",
              "      <td>True</td>\n",
              "    </tr>\n",
              "    <tr>\n",
              "      <th>199</th>\n",
              "      <td>TOYOTA</td>\n",
              "      <td>CAMRY</td>\n",
              "      <td>27000.0</td>\n",
              "      <td>301.0</td>\n",
              "      <td>True</td>\n",
              "    </tr>\n",
              "  </tbody>\n",
              "</table>\n",
              "</div>\n",
              "    <div class=\"colab-df-buttons\">\n",
              "\n",
              "  <div class=\"colab-df-container\">\n",
              "    <button class=\"colab-df-convert\" onclick=\"convertToInteractive('df-98b1c810-3c5b-412d-afa1-66fbc126161d')\"\n",
              "            title=\"Convert this dataframe to an interactive table.\"\n",
              "            style=\"display:none;\">\n",
              "\n",
              "  <svg xmlns=\"http://www.w3.org/2000/svg\" height=\"24px\" viewBox=\"0 -960 960 960\">\n",
              "    <path d=\"M120-120v-720h720v720H120Zm60-500h600v-160H180v160Zm220 220h160v-160H400v160Zm0 220h160v-160H400v160ZM180-400h160v-160H180v160Zm440 0h160v-160H620v160ZM180-180h160v-160H180v160Zm440 0h160v-160H620v160Z\"/>\n",
              "  </svg>\n",
              "    </button>\n",
              "\n",
              "  <style>\n",
              "    .colab-df-container {\n",
              "      display:flex;\n",
              "      gap: 12px;\n",
              "    }\n",
              "\n",
              "    .colab-df-convert {\n",
              "      background-color: #E8F0FE;\n",
              "      border: none;\n",
              "      border-radius: 50%;\n",
              "      cursor: pointer;\n",
              "      display: none;\n",
              "      fill: #1967D2;\n",
              "      height: 32px;\n",
              "      padding: 0 0 0 0;\n",
              "      width: 32px;\n",
              "    }\n",
              "\n",
              "    .colab-df-convert:hover {\n",
              "      background-color: #E2EBFA;\n",
              "      box-shadow: 0px 1px 2px rgba(60, 64, 67, 0.3), 0px 1px 3px 1px rgba(60, 64, 67, 0.15);\n",
              "      fill: #174EA6;\n",
              "    }\n",
              "\n",
              "    .colab-df-buttons div {\n",
              "      margin-bottom: 4px;\n",
              "    }\n",
              "\n",
              "    [theme=dark] .colab-df-convert {\n",
              "      background-color: #3B4455;\n",
              "      fill: #D2E3FC;\n",
              "    }\n",
              "\n",
              "    [theme=dark] .colab-df-convert:hover {\n",
              "      background-color: #434B5C;\n",
              "      box-shadow: 0px 1px 3px 1px rgba(0, 0, 0, 0.15);\n",
              "      filter: drop-shadow(0px 1px 2px rgba(0, 0, 0, 0.3));\n",
              "      fill: #FFFFFF;\n",
              "    }\n",
              "  </style>\n",
              "\n",
              "    <script>\n",
              "      const buttonEl =\n",
              "        document.querySelector('#df-98b1c810-3c5b-412d-afa1-66fbc126161d button.colab-df-convert');\n",
              "      buttonEl.style.display =\n",
              "        google.colab.kernel.accessAllowed ? 'block' : 'none';\n",
              "\n",
              "      async function convertToInteractive(key) {\n",
              "        const element = document.querySelector('#df-98b1c810-3c5b-412d-afa1-66fbc126161d');\n",
              "        const dataTable =\n",
              "          await google.colab.kernel.invokeFunction('convertToInteractive',\n",
              "                                                    [key], {});\n",
              "        if (!dataTable) return;\n",
              "\n",
              "        const docLinkHtml = 'Like what you see? Visit the ' +\n",
              "          '<a target=\"_blank\" href=https://colab.research.google.com/notebooks/data_table.ipynb>data table notebook</a>'\n",
              "          + ' to learn more about interactive tables.';\n",
              "        element.innerHTML = '';\n",
              "        dataTable['output_type'] = 'display_data';\n",
              "        await google.colab.output.renderOutput(dataTable, element);\n",
              "        const docLink = document.createElement('div');\n",
              "        docLink.innerHTML = docLinkHtml;\n",
              "        element.appendChild(docLink);\n",
              "      }\n",
              "    </script>\n",
              "  </div>\n",
              "\n",
              "\n",
              "    <div id=\"df-1de9f0eb-c397-47a6-ac79-2d9e267ee55d\">\n",
              "      <button class=\"colab-df-quickchart\" onclick=\"quickchart('df-1de9f0eb-c397-47a6-ac79-2d9e267ee55d')\"\n",
              "                title=\"Suggest charts\"\n",
              "                style=\"display:none;\">\n",
              "\n",
              "<svg xmlns=\"http://www.w3.org/2000/svg\" height=\"24px\"viewBox=\"0 0 24 24\"\n",
              "     width=\"24px\">\n",
              "    <g>\n",
              "        <path d=\"M19 3H5c-1.1 0-2 .9-2 2v14c0 1.1.9 2 2 2h14c1.1 0 2-.9 2-2V5c0-1.1-.9-2-2-2zM9 17H7v-7h2v7zm4 0h-2V7h2v10zm4 0h-2v-4h2v4z\"/>\n",
              "    </g>\n",
              "</svg>\n",
              "      </button>\n",
              "\n",
              "<style>\n",
              "  .colab-df-quickchart {\n",
              "      --bg-color: #E8F0FE;\n",
              "      --fill-color: #1967D2;\n",
              "      --hover-bg-color: #E2EBFA;\n",
              "      --hover-fill-color: #174EA6;\n",
              "      --disabled-fill-color: #AAA;\n",
              "      --disabled-bg-color: #DDD;\n",
              "  }\n",
              "\n",
              "  [theme=dark] .colab-df-quickchart {\n",
              "      --bg-color: #3B4455;\n",
              "      --fill-color: #D2E3FC;\n",
              "      --hover-bg-color: #434B5C;\n",
              "      --hover-fill-color: #FFFFFF;\n",
              "      --disabled-bg-color: #3B4455;\n",
              "      --disabled-fill-color: #666;\n",
              "  }\n",
              "\n",
              "  .colab-df-quickchart {\n",
              "    background-color: var(--bg-color);\n",
              "    border: none;\n",
              "    border-radius: 50%;\n",
              "    cursor: pointer;\n",
              "    display: none;\n",
              "    fill: var(--fill-color);\n",
              "    height: 32px;\n",
              "    padding: 0;\n",
              "    width: 32px;\n",
              "  }\n",
              "\n",
              "  .colab-df-quickchart:hover {\n",
              "    background-color: var(--hover-bg-color);\n",
              "    box-shadow: 0 1px 2px rgba(60, 64, 67, 0.3), 0 1px 3px 1px rgba(60, 64, 67, 0.15);\n",
              "    fill: var(--button-hover-fill-color);\n",
              "  }\n",
              "\n",
              "  .colab-df-quickchart-complete:disabled,\n",
              "  .colab-df-quickchart-complete:disabled:hover {\n",
              "    background-color: var(--disabled-bg-color);\n",
              "    fill: var(--disabled-fill-color);\n",
              "    box-shadow: none;\n",
              "  }\n",
              "\n",
              "  .colab-df-spinner {\n",
              "    border: 2px solid var(--fill-color);\n",
              "    border-color: transparent;\n",
              "    border-bottom-color: var(--fill-color);\n",
              "    animation:\n",
              "      spin 1s steps(1) infinite;\n",
              "  }\n",
              "\n",
              "  @keyframes spin {\n",
              "    0% {\n",
              "      border-color: transparent;\n",
              "      border-bottom-color: var(--fill-color);\n",
              "      border-left-color: var(--fill-color);\n",
              "    }\n",
              "    20% {\n",
              "      border-color: transparent;\n",
              "      border-left-color: var(--fill-color);\n",
              "      border-top-color: var(--fill-color);\n",
              "    }\n",
              "    30% {\n",
              "      border-color: transparent;\n",
              "      border-left-color: var(--fill-color);\n",
              "      border-top-color: var(--fill-color);\n",
              "      border-right-color: var(--fill-color);\n",
              "    }\n",
              "    40% {\n",
              "      border-color: transparent;\n",
              "      border-right-color: var(--fill-color);\n",
              "      border-top-color: var(--fill-color);\n",
              "    }\n",
              "    60% {\n",
              "      border-color: transparent;\n",
              "      border-right-color: var(--fill-color);\n",
              "    }\n",
              "    80% {\n",
              "      border-color: transparent;\n",
              "      border-right-color: var(--fill-color);\n",
              "      border-bottom-color: var(--fill-color);\n",
              "    }\n",
              "    90% {\n",
              "      border-color: transparent;\n",
              "      border-bottom-color: var(--fill-color);\n",
              "    }\n",
              "  }\n",
              "</style>\n",
              "\n",
              "      <script>\n",
              "        async function quickchart(key) {\n",
              "          const quickchartButtonEl =\n",
              "            document.querySelector('#' + key + ' button');\n",
              "          quickchartButtonEl.disabled = true;  // To prevent multiple clicks.\n",
              "          quickchartButtonEl.classList.add('colab-df-spinner');\n",
              "          try {\n",
              "            const charts = await google.colab.kernel.invokeFunction(\n",
              "                'suggestCharts', [key], {});\n",
              "          } catch (error) {\n",
              "            console.error('Error during call to suggestCharts:', error);\n",
              "          }\n",
              "          quickchartButtonEl.classList.remove('colab-df-spinner');\n",
              "          quickchartButtonEl.classList.add('colab-df-quickchart-complete');\n",
              "        }\n",
              "        (() => {\n",
              "          let quickchartButtonEl =\n",
              "            document.querySelector('#df-1de9f0eb-c397-47a6-ac79-2d9e267ee55d button');\n",
              "          quickchartButtonEl.style.display =\n",
              "            google.colab.kernel.accessAllowed ? 'block' : 'none';\n",
              "        })();\n",
              "      </script>\n",
              "    </div>\n",
              "\n",
              "    </div>\n",
              "  </div>\n"
            ],
            "application/vnd.google.colaboratory.intrinsic+json": {
              "type": "dataframe",
              "summary": "{\n  \"name\": \"display(good_value_cars[['Company Names', 'Cars Names', 'Price_Numeric', 'HorsePower_Numeric', 'Good_Value']]\",\n  \"rows\": 10,\n  \"fields\": [\n    {\n      \"column\": \"Company Names\",\n      \"properties\": {\n        \"dtype\": \"category\",\n        \"num_unique_values\": 4,\n        \"samples\": [\n          \"NISSAN\",\n          \"BMW\",\n          \"TOYOTA\"\n        ],\n        \"semantic_type\": \"\",\n        \"description\": \"\"\n      }\n    },\n    {\n      \"column\": \"Cars Names\",\n      \"properties\": {\n        \"dtype\": \"string\",\n        \"num_unique_values\": 10,\n        \"samples\": [\n          \"M135i XDRIVE\",\n          \"TOYOTA  GR86\",\n          \"PATHFINDER\"\n        ],\n        \"semantic_type\": \"\",\n        \"description\": \"\"\n      }\n    },\n    {\n      \"column\": \"Price_Numeric\",\n      \"properties\": {\n        \"dtype\": \"number\",\n        \"std\": 3198.9581637360207,\n        \"min\": 27000.0,\n        \"max\": 35000.0,\n        \"num_unique_values\": 4,\n        \"samples\": [\n          30000.0,\n          28000.0,\n          27000.0\n        ],\n        \"semantic_type\": \"\",\n        \"description\": \"\"\n      }\n    },\n    {\n      \"column\": \"HorsePower_Numeric\",\n      \"properties\": {\n        \"dtype\": \"number\",\n        \"std\": 46.84122116256151,\n        \"min\": 201.0,\n        \"max\": 332.0,\n        \"num_unique_values\": 10,\n        \"samples\": [\n          302.0,\n          228.0,\n          284.0\n        ],\n        \"semantic_type\": \"\",\n        \"description\": \"\"\n      }\n    },\n    {\n      \"column\": \"Good_Value\",\n      \"properties\": {\n        \"dtype\": \"boolean\",\n        \"num_unique_values\": 1,\n        \"samples\": [\n          true\n        ],\n        \"semantic_type\": \"\",\n        \"description\": \"\"\n      }\n    }\n  ]\n}"
            }
          },
          "metadata": {}
        }
      ]
    },
    {
      "cell_type": "code",
      "metadata": {
        "colab": {
          "base_uri": "https://localhost:8080/",
          "height": 542
        },
        "id": "96c88575",
        "outputId": "449e9698-90c2-4450-b002-0ed2f46c0e03"
      },
      "source": [
        "# Plotly figure of good value cars (Hover over each dot to see infomration on the specific car)\n",
        "fig = px.scatter(good_value_cars, x='Price_Numeric', y='HorsePower_Numeric',\n",
        "                 hover_name='Cars Names',\n",
        "                 hover_data=['Company Names'],\n",
        "                 title='The Best Value Cars of 2025')\n",
        "fig.update_layout(xaxis_title='Price (USD)', yaxis_title='Horsepower')\n",
        "fig.show()"
      ],
      "execution_count": null,
      "outputs": [
        {
          "output_type": "display_data",
          "data": {
            "text/html": [
              "<html>\n",
              "<head><meta charset=\"utf-8\" /></head>\n",
              "<body>\n",
              "    <div>            <script src=\"https://cdnjs.cloudflare.com/ajax/libs/mathjax/2.7.5/MathJax.js?config=TeX-AMS-MML_SVG\"></script><script type=\"text/javascript\">if (window.MathJax && window.MathJax.Hub && window.MathJax.Hub.Config) {window.MathJax.Hub.Config({SVG: {font: \"STIX-Web\"}});}</script>                <script type=\"text/javascript\">window.PlotlyConfig = {MathJaxConfig: 'local'};</script>\n",
              "        <script charset=\"utf-8\" src=\"https://cdn.plot.ly/plotly-2.35.2.min.js\"></script>                <div id=\"1cfa0e00-5fc2-4d91-99d4-374317bef05f\" class=\"plotly-graph-div\" style=\"height:525px; width:100%;\"></div>            <script type=\"text/javascript\">                                    window.PLOTLYENV=window.PLOTLYENV || {};                                    if (document.getElementById(\"1cfa0e00-5fc2-4d91-99d4-374317bef05f\")) {                    Plotly.newPlot(                        \"1cfa0e00-5fc2-4d91-99d4-374317bef05f\",                        [{\"customdata\":[[\"TOYOTA\"],[\"TOYOTA\"],[\"NISSAN\"],[\"NISSAN\"],[\"NISSAN\"],[\"NISSAN\"],[\"NISSAN\"],[\"AUDI\"],[\"BMW\"],[\"TOYOTA\"],[\"TOYOTA\"],[\"TOYOTA\"],[\"TOYOTA\"],[\"TOYOTA\"],[\"HYUNDAI\"],[\"Nissan\"],[\"Volkswagen\"],[\"Volkswagen\"],[\"Volkswagen\"],[\"Volkswagen\"],[\"Volkswagen\"],[\"Volkswagen\"],[\"Volkswagen\"],[\"Volkswagen\"],[\"Volkswagen\"],[\"Volkswagen\"],[\"Volkswagen\"],[\"Cadillac\"],[\"Jeep\"],[\"Chevrolet\"],[\"Chevrolet\"],[\"Chevrolet\"],[\"Chevrolet\"],[\"Chevrolet\"],[\"Chevrolet\"],[\"Chevrolet\"],[\"Chevrolet\"],[\"Chevrolet\"],[\"Chevrolet\"],[\"Chevrolet\"],[\"Kia\"],[\"Kia\"],[\"Kia\"],[\"Acura\"],[\"Acura\"],[\"Acura\"],[\"Acura\"],[\"Acura\"],[\"Peugeot\"],[\"Peugeot\"],[\"Peugeot\"],[\"Ford\"],[\"Ford\"],[\"Ford\"],[\"Ford\"],[\"Ford\"],[\"Ford\"],[\"Ford\"],[\"Ford\"],[\"Ford\"],[\"Ford\"],[\"Mitsubishi\"],[\"Mitsubishi\"],[\"Mazda\"],[\"Mazda\"],[\"Mazda\"],[\"Mazda\"],[\"Mazda\"],[\"Mazda\"],[\"Mazda\"],[\"Mazda\"],[\"Mazda\"],[\"Mazda\"],[\"Mazda\"],[\"Mazda\"],[\"Mazda\"]],\"hovertemplate\":\"\\u003cb\\u003e%{hovertext}\\u003c\\u002fb\\u003e\\u003cbr\\u003e\\u003cbr\\u003ePrice_Numeric=%{x}\\u003cbr\\u003eHorsePower_Numeric=%{y}\\u003cbr\\u003eCompany Names=%{customdata[0]}\\u003cextra\\u003e\\u003c\\u002fextra\\u003e\",\"hovertext\":[\"TOYOTA 86\",\"TOYOTA  GR86\",\"370Z\",\"MAXIMA\",\"ROGUE\",\"PATHFINDER\",\"FRONTIER\",\"Q3\",\"M135i XDRIVE\",\"CAMRY\",\"RAV4\",\"VENZA\",\"PRIUS PRIME\",\"BZ3\",\"Veloster\",\"NV1500\",\"ID.3\",\"Golf GTI\",\"Polo GTI\",\"ID.3 Pro\",\"Teramont\",\"Jetta GLI\",\"Polo GTI Clubsport\",\"Scirocco GTS\",\"Passat Hybrid\",\"Jetta GLI 35th\",\"Polo GTI Plus\",\"CT4\",\"Compass\",\"Camaro\",\"Colorado\",\"Bolt EV\",\"Bolt EUV\",\"Malibu Premier\",\"Bolt EV 2LT\",\"Colorado WT\",\"Silverado Custom\",\"Malibu Premier\",\"Silverado 1500 Custom\",\"Bolt EV Premier\",\"Soul Turbo\",\"Forte GT-Line\",\"Forte GT Turbo\",\"ILX Premium\",\"TLX 2.4L\",\"ILX Technology Package\",\"ILX Special Edition\",\"ILX Technology Plus\",\"208 GTI\",\"308 GTI\",\"3008 GT\",\"Taurus\",\"Edge\",\"Explorer\",\"Bronco\",\"F-150\",\"Ranger\",\"Escape Hybrid\",\"Focus ST\",\"Fiesta ST\",\"Flex\",\"Endeavor\",\"Sigma\",\"Mazda6\",\"CX-50\",\"CX-7\",\"Tribute\",\"BT-50\",\"RX-7\",\"Millenia\",\"929\",\"MPV\",\"Sentia\",\"Xedos 9\",\"RX-7 Spirit R\",\"Millenia S\"],\"legendgroup\":\"\",\"marker\":{\"color\":\"#636efa\",\"symbol\":\"circle\"},\"mode\":\"markers\",\"name\":\"\",\"orientation\":\"v\",\"showlegend\":false,\"x\":[27000.0,30000.0,30000.0,35000.0,28000.0,35000.0,30000.0,35000.0,30000.0,27000.0,27100.0,33400.0,31100.0,35000.0,25000.0,33000.0,35000.0,31965.0,28000.0,35000.0,32000.0,31000.0,30000.0,35000.0,32000.0,31000.0,30000.0,34395.0,31590.0,26400.0,30695.0,27495.0,28795.0,33500.0,28795.0,29200.0,33900.0,34500.0,34900.0,31700.0,28000.0,25000.0,25500.0,30000.0,35000.0,30000.0,30000.0,28000.0,28000.0,35000.0,35000.0,30000.0,35000.0,35000.0,30000.0,35000.0,25000.0,28000.0,30000.0,23000.0,31000.0,28000.0,35000.0,27000.0,29000.0,28000.0,24000.0,27000.0,30000.0,25000.0,25000.0,25000.0,22000.0,30000.0,35000.0,30000.0],\"xaxis\":\"x\",\"y\":[205.0,228.0,332.0,300.0,201.0,284.0,310.0,248.0,302.0,301.0,203.0,219.0,220.0,241.0,275.0,261.0,204.0,245.0,204.0,204.0,235.0,228.0,300.0,220.0,215.0,228.0,207.0,237.0,200.0,275.0,310.0,200.0,200.0,250.0,200.0,310.0,285.0,250.0,285.0,200.0,201.0,201.0,201.0,201.0,206.0,201.0,201.0,201.0,208.0,270.0,200.0,200.0,250.0,300.0,275.0,290.0,270.0,200.0,280.0,200.0,287.0,225.0,210.0,250.0,256.0,244.0,200.0,200.0,276.0,210.0,205.0,200.0,200.0,200.0,280.0,200.0],\"yaxis\":\"y\",\"type\":\"scatter\"}],                        {\"template\":{\"data\":{\"histogram2dcontour\":[{\"type\":\"histogram2dcontour\",\"colorbar\":{\"outlinewidth\":0,\"ticks\":\"\"},\"colorscale\":[[0.0,\"#0d0887\"],[0.1111111111111111,\"#46039f\"],[0.2222222222222222,\"#7201a8\"],[0.3333333333333333,\"#9c179e\"],[0.4444444444444444,\"#bd3786\"],[0.5555555555555556,\"#d8576b\"],[0.6666666666666666,\"#ed7953\"],[0.7777777777777778,\"#fb9f3a\"],[0.8888888888888888,\"#fdca26\"],[1.0,\"#f0f921\"]]}],\"choropleth\":[{\"type\":\"choropleth\",\"colorbar\":{\"outlinewidth\":0,\"ticks\":\"\"}}],\"histogram2d\":[{\"type\":\"histogram2d\",\"colorbar\":{\"outlinewidth\":0,\"ticks\":\"\"},\"colorscale\":[[0.0,\"#0d0887\"],[0.1111111111111111,\"#46039f\"],[0.2222222222222222,\"#7201a8\"],[0.3333333333333333,\"#9c179e\"],[0.4444444444444444,\"#bd3786\"],[0.5555555555555556,\"#d8576b\"],[0.6666666666666666,\"#ed7953\"],[0.7777777777777778,\"#fb9f3a\"],[0.8888888888888888,\"#fdca26\"],[1.0,\"#f0f921\"]]}],\"heatmap\":[{\"type\":\"heatmap\",\"colorbar\":{\"outlinewidth\":0,\"ticks\":\"\"},\"colorscale\":[[0.0,\"#0d0887\"],[0.1111111111111111,\"#46039f\"],[0.2222222222222222,\"#7201a8\"],[0.3333333333333333,\"#9c179e\"],[0.4444444444444444,\"#bd3786\"],[0.5555555555555556,\"#d8576b\"],[0.6666666666666666,\"#ed7953\"],[0.7777777777777778,\"#fb9f3a\"],[0.8888888888888888,\"#fdca26\"],[1.0,\"#f0f921\"]]}],\"heatmapgl\":[{\"type\":\"heatmapgl\",\"colorbar\":{\"outlinewidth\":0,\"ticks\":\"\"},\"colorscale\":[[0.0,\"#0d0887\"],[0.1111111111111111,\"#46039f\"],[0.2222222222222222,\"#7201a8\"],[0.3333333333333333,\"#9c179e\"],[0.4444444444444444,\"#bd3786\"],[0.5555555555555556,\"#d8576b\"],[0.6666666666666666,\"#ed7953\"],[0.7777777777777778,\"#fb9f3a\"],[0.8888888888888888,\"#fdca26\"],[1.0,\"#f0f921\"]]}],\"contourcarpet\":[{\"type\":\"contourcarpet\",\"colorbar\":{\"outlinewidth\":0,\"ticks\":\"\"}}],\"contour\":[{\"type\":\"contour\",\"colorbar\":{\"outlinewidth\":0,\"ticks\":\"\"},\"colorscale\":[[0.0,\"#0d0887\"],[0.1111111111111111,\"#46039f\"],[0.2222222222222222,\"#7201a8\"],[0.3333333333333333,\"#9c179e\"],[0.4444444444444444,\"#bd3786\"],[0.5555555555555556,\"#d8576b\"],[0.6666666666666666,\"#ed7953\"],[0.7777777777777778,\"#fb9f3a\"],[0.8888888888888888,\"#fdca26\"],[1.0,\"#f0f921\"]]}],\"surface\":[{\"type\":\"surface\",\"colorbar\":{\"outlinewidth\":0,\"ticks\":\"\"},\"colorscale\":[[0.0,\"#0d0887\"],[0.1111111111111111,\"#46039f\"],[0.2222222222222222,\"#7201a8\"],[0.3333333333333333,\"#9c179e\"],[0.4444444444444444,\"#bd3786\"],[0.5555555555555556,\"#d8576b\"],[0.6666666666666666,\"#ed7953\"],[0.7777777777777778,\"#fb9f3a\"],[0.8888888888888888,\"#fdca26\"],[1.0,\"#f0f921\"]]}],\"mesh3d\":[{\"type\":\"mesh3d\",\"colorbar\":{\"outlinewidth\":0,\"ticks\":\"\"}}],\"scatter\":[{\"fillpattern\":{\"fillmode\":\"overlay\",\"size\":10,\"solidity\":0.2},\"type\":\"scatter\"}],\"parcoords\":[{\"type\":\"parcoords\",\"line\":{\"colorbar\":{\"outlinewidth\":0,\"ticks\":\"\"}}}],\"scatterpolargl\":[{\"type\":\"scatterpolargl\",\"marker\":{\"colorbar\":{\"outlinewidth\":0,\"ticks\":\"\"}}}],\"bar\":[{\"error_x\":{\"color\":\"#2a3f5f\"},\"error_y\":{\"color\":\"#2a3f5f\"},\"marker\":{\"line\":{\"color\":\"#E5ECF6\",\"width\":0.5},\"pattern\":{\"fillmode\":\"overlay\",\"size\":10,\"solidity\":0.2}},\"type\":\"bar\"}],\"scattergeo\":[{\"type\":\"scattergeo\",\"marker\":{\"colorbar\":{\"outlinewidth\":0,\"ticks\":\"\"}}}],\"scatterpolar\":[{\"type\":\"scatterpolar\",\"marker\":{\"colorbar\":{\"outlinewidth\":0,\"ticks\":\"\"}}}],\"histogram\":[{\"marker\":{\"pattern\":{\"fillmode\":\"overlay\",\"size\":10,\"solidity\":0.2}},\"type\":\"histogram\"}],\"scattergl\":[{\"type\":\"scattergl\",\"marker\":{\"colorbar\":{\"outlinewidth\":0,\"ticks\":\"\"}}}],\"scatter3d\":[{\"type\":\"scatter3d\",\"line\":{\"colorbar\":{\"outlinewidth\":0,\"ticks\":\"\"}},\"marker\":{\"colorbar\":{\"outlinewidth\":0,\"ticks\":\"\"}}}],\"scattermapbox\":[{\"type\":\"scattermapbox\",\"marker\":{\"colorbar\":{\"outlinewidth\":0,\"ticks\":\"\"}}}],\"scatterternary\":[{\"type\":\"scatterternary\",\"marker\":{\"colorbar\":{\"outlinewidth\":0,\"ticks\":\"\"}}}],\"scattercarpet\":[{\"type\":\"scattercarpet\",\"marker\":{\"colorbar\":{\"outlinewidth\":0,\"ticks\":\"\"}}}],\"carpet\":[{\"aaxis\":{\"endlinecolor\":\"#2a3f5f\",\"gridcolor\":\"white\",\"linecolor\":\"white\",\"minorgridcolor\":\"white\",\"startlinecolor\":\"#2a3f5f\"},\"baxis\":{\"endlinecolor\":\"#2a3f5f\",\"gridcolor\":\"white\",\"linecolor\":\"white\",\"minorgridcolor\":\"white\",\"startlinecolor\":\"#2a3f5f\"},\"type\":\"carpet\"}],\"table\":[{\"cells\":{\"fill\":{\"color\":\"#EBF0F8\"},\"line\":{\"color\":\"white\"}},\"header\":{\"fill\":{\"color\":\"#C8D4E3\"},\"line\":{\"color\":\"white\"}},\"type\":\"table\"}],\"barpolar\":[{\"marker\":{\"line\":{\"color\":\"#E5ECF6\",\"width\":0.5},\"pattern\":{\"fillmode\":\"overlay\",\"size\":10,\"solidity\":0.2}},\"type\":\"barpolar\"}],\"pie\":[{\"automargin\":true,\"type\":\"pie\"}]},\"layout\":{\"autotypenumbers\":\"strict\",\"colorway\":[\"#636efa\",\"#EF553B\",\"#00cc96\",\"#ab63fa\",\"#FFA15A\",\"#19d3f3\",\"#FF6692\",\"#B6E880\",\"#FF97FF\",\"#FECB52\"],\"font\":{\"color\":\"#2a3f5f\"},\"hovermode\":\"closest\",\"hoverlabel\":{\"align\":\"left\"},\"paper_bgcolor\":\"white\",\"plot_bgcolor\":\"#E5ECF6\",\"polar\":{\"bgcolor\":\"#E5ECF6\",\"angularaxis\":{\"gridcolor\":\"white\",\"linecolor\":\"white\",\"ticks\":\"\"},\"radialaxis\":{\"gridcolor\":\"white\",\"linecolor\":\"white\",\"ticks\":\"\"}},\"ternary\":{\"bgcolor\":\"#E5ECF6\",\"aaxis\":{\"gridcolor\":\"white\",\"linecolor\":\"white\",\"ticks\":\"\"},\"baxis\":{\"gridcolor\":\"white\",\"linecolor\":\"white\",\"ticks\":\"\"},\"caxis\":{\"gridcolor\":\"white\",\"linecolor\":\"white\",\"ticks\":\"\"}},\"coloraxis\":{\"colorbar\":{\"outlinewidth\":0,\"ticks\":\"\"}},\"colorscale\":{\"sequential\":[[0.0,\"#0d0887\"],[0.1111111111111111,\"#46039f\"],[0.2222222222222222,\"#7201a8\"],[0.3333333333333333,\"#9c179e\"],[0.4444444444444444,\"#bd3786\"],[0.5555555555555556,\"#d8576b\"],[0.6666666666666666,\"#ed7953\"],[0.7777777777777778,\"#fb9f3a\"],[0.8888888888888888,\"#fdca26\"],[1.0,\"#f0f921\"]],\"sequentialminus\":[[0.0,\"#0d0887\"],[0.1111111111111111,\"#46039f\"],[0.2222222222222222,\"#7201a8\"],[0.3333333333333333,\"#9c179e\"],[0.4444444444444444,\"#bd3786\"],[0.5555555555555556,\"#d8576b\"],[0.6666666666666666,\"#ed7953\"],[0.7777777777777778,\"#fb9f3a\"],[0.8888888888888888,\"#fdca26\"],[1.0,\"#f0f921\"]],\"diverging\":[[0,\"#8e0152\"],[0.1,\"#c51b7d\"],[0.2,\"#de77ae\"],[0.3,\"#f1b6da\"],[0.4,\"#fde0ef\"],[0.5,\"#f7f7f7\"],[0.6,\"#e6f5d0\"],[0.7,\"#b8e186\"],[0.8,\"#7fbc41\"],[0.9,\"#4d9221\"],[1,\"#276419\"]]},\"xaxis\":{\"gridcolor\":\"white\",\"linecolor\":\"white\",\"ticks\":\"\",\"title\":{\"standoff\":15},\"zerolinecolor\":\"white\",\"automargin\":true,\"zerolinewidth\":2},\"yaxis\":{\"gridcolor\":\"white\",\"linecolor\":\"white\",\"ticks\":\"\",\"title\":{\"standoff\":15},\"zerolinecolor\":\"white\",\"automargin\":true,\"zerolinewidth\":2},\"scene\":{\"xaxis\":{\"backgroundcolor\":\"#E5ECF6\",\"gridcolor\":\"white\",\"linecolor\":\"white\",\"showbackground\":true,\"ticks\":\"\",\"zerolinecolor\":\"white\",\"gridwidth\":2},\"yaxis\":{\"backgroundcolor\":\"#E5ECF6\",\"gridcolor\":\"white\",\"linecolor\":\"white\",\"showbackground\":true,\"ticks\":\"\",\"zerolinecolor\":\"white\",\"gridwidth\":2},\"zaxis\":{\"backgroundcolor\":\"#E5ECF6\",\"gridcolor\":\"white\",\"linecolor\":\"white\",\"showbackground\":true,\"ticks\":\"\",\"zerolinecolor\":\"white\",\"gridwidth\":2}},\"shapedefaults\":{\"line\":{\"color\":\"#2a3f5f\"}},\"annotationdefaults\":{\"arrowcolor\":\"#2a3f5f\",\"arrowhead\":0,\"arrowwidth\":1},\"geo\":{\"bgcolor\":\"white\",\"landcolor\":\"#E5ECF6\",\"subunitcolor\":\"white\",\"showland\":true,\"showlakes\":true,\"lakecolor\":\"white\"},\"title\":{\"x\":0.05},\"mapbox\":{\"style\":\"light\"}}},\"xaxis\":{\"anchor\":\"y\",\"domain\":[0.0,1.0],\"title\":{\"text\":\"Price (USD)\"}},\"yaxis\":{\"anchor\":\"x\",\"domain\":[0.0,1.0],\"title\":{\"text\":\"Horsepower\"}},\"legend\":{\"tracegroupgap\":0},\"title\":{\"text\":\"The Best Value Cars of 2025\"}},                        {\"responsive\": true}                    ).then(function(){\n",
              "                            \n",
              "var gd = document.getElementById('1cfa0e00-5fc2-4d91-99d4-374317bef05f');\n",
              "var x = new MutationObserver(function (mutations, observer) {{\n",
              "        var display = window.getComputedStyle(gd).display;\n",
              "        if (!display || display === 'none') {{\n",
              "            console.log([gd, 'removed!']);\n",
              "            Plotly.purge(gd);\n",
              "            observer.disconnect();\n",
              "        }}\n",
              "}});\n",
              "\n",
              "// Listen for the removal of the full notebook cells\n",
              "var notebookContainer = gd.closest('#notebook-container');\n",
              "if (notebookContainer) {{\n",
              "    x.observe(notebookContainer, {childList: true});\n",
              "}}\n",
              "\n",
              "// Listen for the clearing of the current output cell\n",
              "var outputEl = gd.closest('.output');\n",
              "if (outputEl) {{\n",
              "    x.observe(outputEl, {childList: true});\n",
              "}}\n",
              "\n",
              "                        })                };                            </script>        </div>\n",
              "</body>\n",
              "</html>"
            ]
          },
          "metadata": {}
        }
      ]
    }
  ]
}