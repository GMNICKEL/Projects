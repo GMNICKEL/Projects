{
  "nbformat": 4,
  "nbformat_minor": 0,
  "metadata": {
    "colab": {
      "provenance": []
    },
    "kernelspec": {
      "name": "python3",
      "display_name": "Python 3"
    },
    "language_info": {
      "name": "python"
    }
  },
  "cells": [
    {
      "cell_type": "code",
      "execution_count": 1,
      "metadata": {
        "colab": {
          "base_uri": "https://localhost:8080/"
        },
        "id": "TiPKzb_p5WJk",
        "outputId": "0409aab4-7076-4e24-fee9-f3abf6b486c7"
      },
      "outputs": [
        {
          "output_type": "stream",
          "name": "stdout",
          "text": [
            "Mounted at /content/drive\n"
          ]
        }
      ],
      "source": [
        "# All imports and directory for csv.\n",
        "import numpy as np\n",
        "import pandas as pd\n",
        "import seaborn as sns\n",
        "import plotly.express as px\n",
        "import re\n",
        "from sklearn.linear_model import LinearRegression\n",
        "from sklearn.metrics import mean_squared_error\n",
        "\n",
        "from google.colab import drive\n",
        "drive.mount('/content/drive')\n",
        "cars_df = pd.read_csv(\"/content/drive/MyDrive/Colab Notebooks/Cars Datasets 2025.csv\", encoding=\"cp1252\")"
      ]
    },
    {
      "cell_type": "code",
      "source": [
        "# 80/20 split for sample of Cars 2025 dataset\n",
        "test_df  = cars_df.sample(frac=0.20, random_state=42)\n",
        "train_df = cars_df.drop(test_df.index).reset_index(drop=True)\n",
        "test_df  = test_df.reset_index(drop=True)\n"
      ],
      "metadata": {
        "id": "03ZMplTK6ZlN"
      },
      "execution_count": 2,
      "outputs": []
    },
    {
      "cell_type": "code",
      "source": [
        "# Clean data\n",
        "num = lambda s: (\n",
        "    (lambda txt: (\n",
        "        np.nan if not re.findall(r'[\\d.,]*\\d(?:\\.\\d+)?', txt)\n",
        "        else float(re.findall(r'[\\d.,]*\\d(?:\\.\\d+)?', txt)[0].replace(',', ''))\n",
        "             * (1_000_000 if 'million' in txt else (1_000 if re.search(r'\\bk\\b', txt) else 1))\n",
        "    ))(str(s).lower())\n",
        ")\n",
        "\n",
        "# Parse train\n",
        "train_df['price']   = train_df['Cars Prices'].map(num)\n",
        "train_df['hp']      = train_df['HorsePower'].map(num)\n",
        "train_df['torque']  = train_df['Torque'].map(num)\n",
        "train_df['vmax']    = train_df['Total Speed'].map(num)\n",
        "train_df['zero100'] = train_df['Performance(0 - 100 )KM/H'].map(num)\n",
        "\n",
        "# Parse test\n",
        "test_df['price']    = test_df['Cars Prices'].map(num)\n",
        "test_df['hp']       = test_df['HorsePower'].map(num)\n",
        "test_df['torque']   = test_df['Torque'].map(num)\n",
        "test_df['vmax']     = test_df['Total Speed'].map(num)\n",
        "test_df['zero100']  = test_df['Performance(0 - 100 )KM/H'].map(num)\n",
        "\n",
        "# Drop rows missing required fields\n",
        "train_clean = train_df.dropna(subset=['price','hp','zero100'])\n",
        "test_clean  = test_df.dropna(subset=['price','hp','zero100'])\n",
        "\n",
        "# Baseline model: Linear Regression on log(price) with fewer, less-collinear features\n",
        "X_train = train_clean[['hp','zero100']]\n",
        "X_test  = test_clean[['hp','zero100']]\n",
        "\n",
        "y_train_log = np.log(train_clean['price'])\n",
        "y_test = test_clean['price']\n",
        "\n",
        "lr = LinearRegression().fit(X_train, y_train_log)\n",
        "\n",
        "# back-transform predictions to dollars\n",
        "pred_log = lr.predict(X_test)\n",
        "pred = np.exp(pred_log)\n",
        "\n",
        "# Evaluate\n",
        "rmse = np.sqrt(mean_squared_error(y_test, pred))\n",
        "print(f\"RMSE: {rmse:,.2f}\")\n",
        "print(\"Coefficients [hp, zero100]:\", lr.coef_)\n",
        "print(\"Intercept (log-scale):\", lr.intercept_)\n"
      ],
      "metadata": {
        "colab": {
          "base_uri": "https://localhost:8080/"
        },
        "id": "8tcD0kBb8CfM",
        "outputId": "add8f893-17e0-44b9-f0be-23d0c3b1e070"
      },
      "execution_count": 3,
      "outputs": [
        {
          "output_type": "stream",
          "name": "stdout",
          "text": [
            "RMSE: 74,857.73\n",
            "Coefficients [hp, zero100]: [ 0.00299523 -0.07633867]\n",
            "Intercept (log-scale): 10.469232721847636\n"
          ]
        }
      ]
    },
    {
      "cell_type": "code",
      "source": [
        "\n",
        "# Actual vs Predicted\n",
        "cols_for_id = [c for c in ['Company Names','Cars Names'] if c in test_clean.columns]\n",
        "compare = test_clean[cols_for_id].copy()\n",
        "compare['actual_price'] = y_test.to_numpy()\n",
        "compare['pred_price']   = pred\n",
        "compare['error']        = compare['pred_price'] - compare['actual_price']\n",
        "print(compare.head(10).to_string(index=False))"
      ],
      "metadata": {
        "colab": {
          "base_uri": "https://localhost:8080/"
        },
        "id": "T75LxMP78TKz",
        "outputId": "3f44d03a-8d7a-407b-c855-2b70c37e2ed7"
      },
      "execution_count": 4,
      "outputs": [
        {
          "output_type": "stream",
          "name": "stdout",
          "text": [
            "Company Names     Cars Names  actual_price    pred_price          error\n",
            "      Porsche  Cayenne Turbo      130000.0 131176.167793    1176.167793\n",
            "      HYUNDAI         Sonata       25000.0  33881.078227    8881.078227\n",
            "  LAMBORGHINI  AVENTADOR SVJ      518000.0 276195.058312 -241804.941688\n",
            "      Peugeot        5008 GT       40000.0  32286.250267   -7713.749733\n",
            "      Porsche        Macan T       63000.0  48516.947805  -14483.052195\n",
            "   Volkswagen        Crafter       40000.0  17718.123800  -22281.876200\n",
            "  Tata Motors Nexon EV Prime       22000.0  25286.696220    3286.696220\n",
            "        Mazda     Millenia S       30000.0  34806.834026    4806.834026\n",
            "       TOYOTA          VENZA       33400.0  38278.654438    4878.654438\n",
            "          BMW           118D       34000.0  29064.481842   -4935.518158\n"
          ]
        }
      ]
    }
  ]
}